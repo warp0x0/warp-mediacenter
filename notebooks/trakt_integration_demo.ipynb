{
  "cells": [
    {
      "cell_type": "markdown",
      "metadata": {},
      "source": [
        "# Trakt Integration Smoke Test\n",
        "\n",
        "This notebook exercises the Warp Media Center Trakt integration end to end.\n",
        "\n",
        "> **Prerequisites**\n",
        ">\n",
        "> * Set the `TRAKT_CLIENT_ID` and `TRAKT_CLIENT_SECRET` environment variables (or configure them via `warp_mediacenter/config/informationproviderservicesettings.json`).\n",
        "> * Ensure outbound HTTPS access to `api.trakt.tv`.\n",
        "> * Run the notebook from the project root so relative cache/token paths resolve correctly.\n"
      ]
    },
    {
      "cell_type": "code",
      "metadata": {},
      "execution_count": null,
      "outputs": [],
      "source": [
        "import time\n",
        "\n",
        "from warp_mediacenter.backend.information_handlers.models import MediaType\n",
        "from warp_mediacenter.backend.information_handlers.providers import InformationProviders\n",
        "from warp_mediacenter.backend.information_handlers.trakt_manager import DeviceAuthPollingError\n"
      ]
    },
    {
      "cell_type": "code",
      "metadata": {},
      "execution_count": null,
      "outputs": [],
      "source": [
        "providers = InformationProviders(allow_missing_trakt=False)\n",
        "print(f\"Trakt available: {providers.trakt_available()}\")\n",
        "print(f\"Existing token: {providers.trakt_has_token()}\")\n"
      ]
    },
    {
      "cell_type": "markdown",
      "metadata": {},
      "source": [
        "## 1. Start device authentication\n",
        "\n",
        "Run the cell below to generate a user code and URL. Follow the instructions in the output to approve the application in your browser.\n"
      ]
    },
    {
      "cell_type": "code",
      "metadata": {},
      "execution_count": null,
      "outputs": [],
      "source": [
        "device = providers.start_trakt_device_auth()\n",
        "device.model_dump()\n"
      ]
    },
    {
      "cell_type": "markdown",
      "metadata": {},
      "source": [
        "## 2. Poll until the device is authorized\n",
        "\n",
        "This loop handles the `authorization_pending` and `slow_down` responses from Trakt by sleeping for the recommended interval before retrying.\n"
      ]
    },
    {
      "cell_type": "code",
      "metadata": {},
      "execution_count": null,
      "outputs": [],
      "source": [
        "token = None\n",
        "while token is None:\n",
        "    try:\n",
        "        token = providers.poll_trakt_device_token(device.device_code)\n",
        "        print(\"Access token stored on disk.\")\n",
        "    except DeviceAuthPollingError as exc:\n",
        "        wait_for = exc.retry_interval or device.interval\n",
        "        if exc.should_retry:\n",
        "            print(f\"Waiting for authorization ({exc.error}); retrying in {wait_for} seconds...\")\n",
        "            time.sleep(wait_for)\n",
        "        else:\n",
        "            raise\n",
        "\n",
        "token.model_dump()\n"
      ]
    },
    {
      "cell_type": "markdown",
      "metadata": {},
      "source": [
        "## 3. Manually refresh the token\n",
        "\n",
        "The `HttpSession` will refresh tokens automatically on `401` responses, but you can trigger a manual refresh to confirm refresh credentials are stored correctly.\n"
      ]
    },
    {
      "cell_type": "code",
      "metadata": {},
      "execution_count": null,
      "outputs": [],
      "source": [
        "refreshed = providers.refresh_trakt_token()\n",
        "print(f\"Token expires at: {providers.trakt_token_expires_at()}\")\n",
        "refreshed.model_dump()\n"
      ]
    },
    {
      "cell_type": "markdown",
      "metadata": {},
      "source": [
        "## 4. Fetch profile and account settings\n"
      ]
    },
    {
      "cell_type": "code",
      "metadata": {},
      "execution_count": null,
      "outputs": [],
      "source": [
        "profile = providers.get_trakt_profile()\n",
        "settings = providers.get_trakt_user_settings()\n",
        "\n",
        "profile.model_dump()\n"
      ]
    },
    {
      "cell_type": "code",
      "metadata": {},
      "execution_count": null,
      "outputs": [],
      "source": [
        "# Settings payloads include nested dictionaries that vary per account.\n",
        "# Display the keys to confirm retrieval without dumping sensitive data.\n",
        "settings_keys = {key: type(value).__name__ for key, value in settings.model_dump().items()}\n",
        "settings_keys\n"
      ]
    },
    {
      "cell_type": "markdown",
      "metadata": {},
      "source": [
        "## 5. Search for a show or movie\n",
        "\n",
        "Use the Trakt search endpoint to find catalog entries and confirm they are normalised into `CatalogItem` models.\n"
      ]
    },
    {
      "cell_type": "code",
      "metadata": {},
      "execution_count": null,
      "outputs": [],
      "source": [
        "query = \"Inception\"\n",
        "search_results = providers.search_trakt(query, types=[MediaType.MOVIE], limit=5)\n",
        "[\n",
        "    {\n",
        "        \"type\": result.type.value,\n",
        "        \"score\": result.score,\n",
        "        \"title\": result.media.title,\n",
        "        \"year\": result.media.year,\n",
        "        \"ids\": result.media.extra.get(\"ids\"),\n",
        "    }\n",
        "    for result in search_results\n",
        "]\n"
      ]
    }
  ],
  "metadata": {
    "kernelspec": {
      "display_name": "Python 3",
      "language": "python",
      "name": "python3"
    },
    "language_info": {
      "name": "python"
    }
  },
  "nbformat": 4,
  "nbformat_minor": 5
}